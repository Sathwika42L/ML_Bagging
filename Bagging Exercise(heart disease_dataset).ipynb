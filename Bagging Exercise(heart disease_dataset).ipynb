{
 "cells": [
  {
   "cell_type": "code",
   "execution_count": null,
   "id": "a7bd524f",
   "metadata": {},
   "outputs": [],
   "source": [
    "import pandas as pd\n",
    "df=pd.read_csv('PCA_heart_disease_prediction.csv')\n",
    "df.head()"
   ]
  },
  {
   "cell_type": "code",
   "execution_count": null,
   "id": "e668a94a",
   "metadata": {},
   "outputs": [],
   "source": [
    "x=df.drop('target',axis='columns')\n",
    "y=df.target"
   ]
  },
  {
   "cell_type": "code",
   "execution_count": null,
   "id": "378ade7f",
   "metadata": {},
   "outputs": [],
   "source": [
    "x.shape"
   ]
  },
  {
   "cell_type": "code",
   "execution_count": null,
   "id": "fff4e4b5",
   "metadata": {},
   "outputs": [],
   "source": [
    "from sklearn.preprocessing import StandardScaler\n",
    "scaler=StandardScaler()\n",
    "x_scaled=scaler.fit_transform(x)\n",
    "x_scaled.shape"
   ]
  },
  {
   "cell_type": "code",
   "execution_count": null,
   "id": "acfed719",
   "metadata": {},
   "outputs": [],
   "source": [
    "from sklearn.model_selection import train_test_split\n",
    "x_train,x_test,y_train,y_test=train_test_split(x_scaled,y,test_size=0.3)"
   ]
  },
  {
   "cell_type": "code",
   "execution_count": null,
   "id": "6bc052a6",
   "metadata": {},
   "outputs": [],
   "source": [
    "x_train.shape"
   ]
  },
  {
   "cell_type": "code",
   "execution_count": null,
   "id": "89b01f2d",
   "metadata": {},
   "outputs": [],
   "source": [
    "x_test.shape"
   ]
  },
  {
   "cell_type": "markdown",
   "id": "dff7c0c4",
   "metadata": {},
   "source": [
    "SVC"
   ]
  },
  {
   "cell_type": "code",
   "execution_count": null,
   "id": "af0a3ebd",
   "metadata": {},
   "outputs": [],
   "source": [
    "from sklearn.svm import SVC\n",
    "from sklearn.model_selection import cross_val_score\n",
    "\n",
    "scores=cross_val_score(SVC(),x,y,cv=5)\n",
    "scores.mean()"
   ]
  },
  {
   "cell_type": "markdown",
   "id": "03111036",
   "metadata": {},
   "source": [
    "Bagging with SVM"
   ]
  },
  {
   "cell_type": "code",
   "execution_count": null,
   "id": "01a7cd40",
   "metadata": {},
   "outputs": [],
   "source": [
    "from sklearn.ensemble import BaggingClassifier\n",
    "bag_model=BaggingClassifier(estimator=SVC(),n_estimators=100,max_samples=0.8,random_state=0)\n",
    "\n",
    "scores=cross_val_score(bag_model,x,y,cv=5)\n",
    "scores.mean()"
   ]
  },
  {
   "cell_type": "markdown",
   "id": "f6f3d9de",
   "metadata": {},
   "source": [
    "Bagging is more effective than SVM"
   ]
  },
  {
   "cell_type": "markdown",
   "id": "fe661e51",
   "metadata": {},
   "source": [
    "Decision tree"
   ]
  },
  {
   "cell_type": "code",
   "execution_count": null,
   "id": "e00d6739",
   "metadata": {},
   "outputs": [],
   "source": [
    "from sklearn.tree import DecisionTreeClassifier\n",
    "from sklearn.model_selection import cross_val_score\n",
    "\n",
    "scores=cross_val_score(DecisionTreeClassifier(),x,y,cv=5)\n",
    "scores.mean()"
   ]
  },
  {
   "cell_type": "markdown",
   "id": "0a35826e",
   "metadata": {},
   "source": [
    "Bagging with Decision tree"
   ]
  },
  {
   "cell_type": "code",
   "execution_count": null,
   "id": "0cea41cb",
   "metadata": {},
   "outputs": [],
   "source": [
    "bag_model=BaggingClassifier(estimator=DecisionTreeClassifier(),n_estimators=100,max_samples=0.8,random_state=0)\n",
    "\n",
    "scores=cross_val_score(bag_model,x,y,cv=5)\n",
    "scores.mean()"
   ]
  },
  {
   "cell_type": "markdown",
   "id": "ed894d4d",
   "metadata": {},
   "source": [
    "Bagging is more effective than Decision Tree Classifier"
   ]
  },
  {
   "cell_type": "markdown",
   "id": "7a03c62e",
   "metadata": {},
   "source": [
    "Ramdom forest"
   ]
  },
  {
   "cell_type": "code",
   "execution_count": null,
   "id": "5c30d242",
   "metadata": {},
   "outputs": [],
   "source": [
    "from sklearn.ensemble import RandomForestClassifier\n",
    "from sklearn.model_selection import cross_val_score\n",
    "\n",
    "scores=cross_val_score(RandomForestClassifier(),x,y,cv=5)\n",
    "scores.mean()"
   ]
  },
  {
   "cell_type": "markdown",
   "id": "b58b7c90",
   "metadata": {},
   "source": [
    "Bagging with random forest"
   ]
  },
  {
   "cell_type": "code",
   "execution_count": null,
   "id": "cde02dd3",
   "metadata": {},
   "outputs": [],
   "source": [
    "bag_model=BaggingClassifier(estimator=RandomForestClassifier(),n_estimators=100,max_samples=0.8,random_state=0)\n",
    "\n",
    "scores=cross_val_score(bag_model,x,y,cv=5)\n",
    "scores"
   ]
  },
  {
   "cell_type": "code",
   "execution_count": null,
   "id": "0a6576b9",
   "metadata": {},
   "outputs": [],
   "source": []
  },
  {
   "cell_type": "code",
   "execution_count": null,
   "id": "88fe788c",
   "metadata": {},
   "outputs": [],
   "source": []
  }
 ],
 "metadata": {
  "kernelspec": {
   "display_name": "Python 3 (ipykernel)",
   "language": "python",
   "name": "python3"
  },
  "language_info": {
   "codemirror_mode": {
    "name": "ipython",
    "version": 3
   },
   "file_extension": ".py",
   "mimetype": "text/x-python",
   "name": "python",
   "nbconvert_exporter": "python",
   "pygments_lexer": "ipython3",
   "version": "3.11.4"
  }
 },
 "nbformat": 4,
 "nbformat_minor": 5
}
